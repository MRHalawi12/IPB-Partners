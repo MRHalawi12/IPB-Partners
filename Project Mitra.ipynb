{
 "cells": [
  {
   "cell_type": "code",
   "execution_count": 27,
   "metadata": {},
   "outputs": [
    {
     "name": "stdout",
     "output_type": "stream",
     "text": [
      "  Title       First Name   Last Name Title2 Gender                 Position  \\\n",
      "0    Dr       Bertrand       Collard    NaN   Male                 Lecturer   \n",
      "1   NaN   Ernst Sigmund      Beitler    NaN   Male                 Lecturer   \n",
      "2   NaN      Jan Daniel      Westrik    NaN   Male                 Lecturer   \n",
      "3   Dr.  Muhammad Arief      Budiman   Ph.D   Male                 Research   \n",
      "4   NaN           Navin   Singhania     NaN   Male  Founder Barracude Labs    \n",
      "\n",
      "                                 Department InstitutionName  \\\n",
      "0                 Agronomi dan Hortikultura   Not Available   \n",
      "1           Poultry Science and Animal Feed   Not Available   \n",
      "2                             Dairy Science   Not Available   \n",
      "3                         Orion Genomic USA   Not Available   \n",
      "4  Biomass Fractionation and Natural Fibers   Not Available   \n",
      "\n",
      "         Discipline/Subject Country  ...                     Email  \\\n",
      "0  Agriculture and Forestry   Japan  ...        yai@dpi.nsw.gov.au   \n",
      "1  Agriculture and Forestry   Japan  ...        e.beitler@aeres.nl   \n",
      "2  Agriculture and Forestry   Japan  ...        d.westrik@aeres.nl   \n",
      "3  Agriculture and Forestry   Japan  ...    info@oriongenomics.com   \n",
      "4                   Company   Japan  ...  nsinghania@magnaintl.com   \n",
      "\n",
      "  AlternativeEmail Institution email            Phone   Tahun  \\\n",
      "0              NaN       Institution  +61 2 6951 2611  2020.0   \n",
      "1              NaN       Institution              NaN  2020.0   \n",
      "2              NaN       Institution              NaN  2020.0   \n",
      "3              NaN                 x     314-615-6977  2020.0   \n",
      "4              NaN                 x              NaN  2019.0   \n",
      "\n",
      "                                 Sumber Bouncing  Sent, no response Respond  \\\n",
      "0  Departemen Agronomi Dan Hortikultura      NaN                  v     NaN   \n",
      "1                        Sekolah Vokasi      NaN                  v     NaN   \n",
      "2                        Sekolah Vokasi      NaN                  v     NaN   \n",
      "3      Direktorat Program International      NaN                  v     NaN   \n",
      "4                                   NaN      NaN                  v     NaN   \n",
      "\n",
      "  Automatic reply  \n",
      "0             NaN  \n",
      "1             NaN  \n",
      "2             NaN  \n",
      "3             NaN  \n",
      "4             NaN  \n",
      "\n",
      "[5 rows x 21 columns]\n"
     ]
    }
   ],
   "source": [
    "import pandas as pd\n",
    "import numpy as np\n",
    "import matplotlib.pyplot as plt\n",
    "import io\n",
    "import pandas_profiling\n",
    "%matplotlib inline\n",
    "\n",
    "\n",
    "\n",
    "data=pd.read_excel('2021-04-07 Mitra_Inbound-By_Subject.xlsx')\n",
    "\n",
    "print(data.head())"
   ]
  },
  {
   "cell_type": "code",
   "execution_count": 3,
   "metadata": {},
   "outputs": [
    {
     "name": "stdout",
     "output_type": "stream",
     "text": [
      "Title                  object\n",
      "First Name             object\n",
      "Last Name              object\n",
      "Title2                 object\n",
      "Gender                 object\n",
      "Position               object\n",
      "Department             object\n",
      "InstitutionName        object\n",
      "Discipline/Subject     object\n",
      "Country                object\n",
      "Continent              object\n",
      "Email                  object\n",
      "AlternativeEmail       object\n",
      "Institution email      object\n",
      "Phone                  object\n",
      "Tahun                 float64\n",
      "Sumber                 object\n",
      "Bouncing              float64\n",
      "Sent, no response      object\n",
      "Respond                object\n",
      "Automatic reply        object\n",
      "dtype: object\n",
      "Presentase Missing Value Kolom Subject: 0.0%\n",
      "Presentase Missing Value Kolom country: 0.0%\n",
      "Presentase Missing Value Kolom country: 0.0%\n"
     ]
    }
   ],
   "source": [
    "print(data.dtypes)\n",
    "\n",
    "len_data_subject=len(data['Discipline/Subject'])\n",
    "len_data_country=len(data['Country'])\n",
    "len_data_continent= len(data['Continent'])\n",
    "count_data_subject= data['Discipline/Subject'].count()\n",
    "count_data_country= data['Country'].count()\n",
    "count_data_continent= data['Continent'].count()\n",
    "#Subject\n",
    "missing_data_subject = len_data_subject - count_data_subject\n",
    "float_data_subject = float(missing_data_subject/len_data_subject)\n",
    "pct_data_missing_subject= '{0:.1f}%'.format(float_data_subject * 100)\n",
    "print('Presentase Missing Value Kolom Subject:', pct_data_missing_subject)\n",
    "#Country\n",
    "missing_data_country = len_data_country - count_data_country\n",
    "float_data_country = float(missing_data_country/len_data_country)\n",
    "pct_data_missing_country= '{0:.1f}%'.format(float_data_country * 100)\n",
    "print('Presentase Missing Value Kolom country:', pct_data_missing_country)\n",
    "#Continent\n",
    "missing_data_continent = len_data_continent - count_data_continent\n",
    "float_data_continent = float(missing_data_continent/len_data_continent)\n",
    "pct_data_missing_continent= '{0:.1f}%'.format(float_data_continent * 100)\n",
    "print('Presentase Missing Value Kolom country:', pct_data_missing_continent)\n"
   ]
  },
  {
   "cell_type": "code",
   "execution_count": 5,
   "metadata": {},
   "outputs": [
    {
     "name": "stdout",
     "output_type": "stream",
     "text": [
      "False\n",
      "(2914, 21)\n",
      "(2914, 21)\n",
      "  Title       First Name   Last Name Title2 Gender                 Position  \\\n",
      "0    Dr       Bertrand       Collard      -   Male                 Lecturer   \n",
      "1     -   Ernst Sigmund      Beitler      -   Male                 Lecturer   \n",
      "2     -      Jan Daniel      Westrik      -   Male                 Lecturer   \n",
      "3   Dr.  Muhammad Arief      Budiman   Ph.D   Male                 Research   \n",
      "4     -           Navin   Singhania       -   Male  Founder Barracude Labs    \n",
      "\n",
      "                                 Department InstitutionName  \\\n",
      "0                 Agronomi dan Hortikultura   Not Available   \n",
      "1           Poultry Science and Animal Feed   Not Available   \n",
      "2                             Dairy Science   Not Available   \n",
      "3                         Orion Genomic USA   Not Available   \n",
      "4  Biomass Fractionation and Natural Fibers   Not Available   \n",
      "\n",
      "         Discipline/Subject Country  ...                     Email  \\\n",
      "0  Agriculture and Forestry   Japan  ...        yai@dpi.nsw.gov.au   \n",
      "1  Agriculture and Forestry   Japan  ...        e.beitler@aeres.nl   \n",
      "2  Agriculture and Forestry   Japan  ...        d.westrik@aeres.nl   \n",
      "3  Agriculture and Forestry   Japan  ...    info@oriongenomics.com   \n",
      "4                   Company   Japan  ...  nsinghania@magnaintl.com   \n",
      "\n",
      "  AlternativeEmail Institution email            Phone Tahun  \\\n",
      "0                -       Institution  +61 2 6951 2611  2020   \n",
      "1                -       Institution                -  2020   \n",
      "2                -       Institution                -  2020   \n",
      "3                -                 x     314-615-6977  2020   \n",
      "4                -                 x                -  2019   \n",
      "\n",
      "                                 Sumber Bouncing Sent, no response Respond  \\\n",
      "0  Departemen Agronomi Dan Hortikultura        -                 v       -   \n",
      "1                        Sekolah Vokasi        -                 v       -   \n",
      "2                        Sekolah Vokasi        -                 v       -   \n",
      "3      Direktorat Program International        -                 v       -   \n",
      "4                                     -        -                 v       -   \n",
      "\n",
      "  Automatic reply  \n",
      "0               -  \n",
      "1               -  \n",
      "2               -  \n",
      "3               -  \n",
      "4               -  \n",
      "\n",
      "[5 rows x 21 columns]\n",
      "\n"
     ]
    }
   ],
   "source": [
    "print(data.isnull().values.any())\n",
    "print(data.shape)\n",
    "\n",
    "data=data.fillna('-')\n",
    "data.drop_duplicates(inplace=True)\n",
    "\n",
    "print(data.shape)\n",
    "print(data.head())\n",
    "\n",
    "profile=pandas_profiling.ProfileReport(data)\n",
    "print(profile)"
   ]
  },
  {
   "cell_type": "code",
   "execution_count": 92,
   "metadata": {},
   "outputs": [
    {
     "ename": "KeyError",
     "evalue": "'Others'",
     "output_type": "error",
     "traceback": [
      "\u001b[1;31m---------------------------------------------------------------------------\u001b[0m",
      "\u001b[1;31mKeyError\u001b[0m                                  Traceback (most recent call last)",
      "\u001b[1;32m~\\anaconda3\\lib\\site-packages\\pandas\\core\\indexes\\base.py\u001b[0m in \u001b[0;36mget_loc\u001b[1;34m(self, key, method, tolerance)\u001b[0m\n\u001b[0;32m   2645\u001b[0m             \u001b[1;32mtry\u001b[0m\u001b[1;33m:\u001b[0m\u001b[1;33m\u001b[0m\u001b[1;33m\u001b[0m\u001b[0m\n\u001b[1;32m-> 2646\u001b[1;33m                 \u001b[1;32mreturn\u001b[0m \u001b[0mself\u001b[0m\u001b[1;33m.\u001b[0m\u001b[0m_engine\u001b[0m\u001b[1;33m.\u001b[0m\u001b[0mget_loc\u001b[0m\u001b[1;33m(\u001b[0m\u001b[0mkey\u001b[0m\u001b[1;33m)\u001b[0m\u001b[1;33m\u001b[0m\u001b[1;33m\u001b[0m\u001b[0m\n\u001b[0m\u001b[0;32m   2647\u001b[0m             \u001b[1;32mexcept\u001b[0m \u001b[0mKeyError\u001b[0m\u001b[1;33m:\u001b[0m\u001b[1;33m\u001b[0m\u001b[1;33m\u001b[0m\u001b[0m\n",
      "\u001b[1;32mpandas\\_libs\\index.pyx\u001b[0m in \u001b[0;36mpandas._libs.index.IndexEngine.get_loc\u001b[1;34m()\u001b[0m\n",
      "\u001b[1;32mpandas\\_libs\\index.pyx\u001b[0m in \u001b[0;36mpandas._libs.index.IndexEngine.get_loc\u001b[1;34m()\u001b[0m\n",
      "\u001b[1;32mpandas\\_libs\\hashtable_class_helper.pxi\u001b[0m in \u001b[0;36mpandas._libs.hashtable.PyObjectHashTable.get_item\u001b[1;34m()\u001b[0m\n",
      "\u001b[1;32mpandas\\_libs\\hashtable_class_helper.pxi\u001b[0m in \u001b[0;36mpandas._libs.hashtable.PyObjectHashTable.get_item\u001b[1;34m()\u001b[0m\n",
      "\u001b[1;31mKeyError\u001b[0m: 'Others'",
      "\nDuring handling of the above exception, another exception occurred:\n",
      "\u001b[1;31mKeyError\u001b[0m                                  Traceback (most recent call last)",
      "\u001b[1;32m<ipython-input-92-3e2af20e509d>\u001b[0m in \u001b[0;36m<module>\u001b[1;34m\u001b[0m\n\u001b[0;32m      1\u001b[0m \u001b[0mdata1\u001b[0m\u001b[1;33m=\u001b[0m \u001b[0mdata\u001b[0m\u001b[1;33m[\u001b[0m\u001b[1;33m[\u001b[0m\u001b[1;34m'Discipline/Subject'\u001b[0m\u001b[1;33m,\u001b[0m\u001b[1;34m'Country'\u001b[0m\u001b[1;33m,\u001b[0m\u001b[1;34m'Continent'\u001b[0m\u001b[1;33m]\u001b[0m\u001b[1;33m]\u001b[0m\u001b[1;33m\u001b[0m\u001b[1;33m\u001b[0m\u001b[0m\n\u001b[1;32m----> 2\u001b[1;33m \u001b[0mdata1\u001b[0m \u001b[1;33m=\u001b[0m \u001b[0mdata1\u001b[0m\u001b[1;33m.\u001b[0m\u001b[0mdrop\u001b[0m\u001b[1;33m(\u001b[0m\u001b[0mdata1\u001b[0m\u001b[1;33m[\u001b[0m\u001b[1;34m'Others'\u001b[0m\u001b[1;33m]\u001b[0m\u001b[1;33m.\u001b[0m\u001b[0mindeks\u001b[0m\u001b[1;33m)\u001b[0m\u001b[1;33m\u001b[0m\u001b[1;33m\u001b[0m\u001b[0m\n\u001b[0m\u001b[0;32m      3\u001b[0m \u001b[0mdata_index\u001b[0m\u001b[1;33m=\u001b[0m\u001b[0mdata1\u001b[0m\u001b[1;33m.\u001b[0m\u001b[0mset_index\u001b[0m\u001b[1;33m(\u001b[0m\u001b[1;33m[\u001b[0m\u001b[1;34m'Discipline/Subject'\u001b[0m\u001b[1;33m,\u001b[0m\u001b[1;34m'Country'\u001b[0m\u001b[1;33m]\u001b[0m\u001b[1;33m)\u001b[0m\u001b[1;33m\u001b[0m\u001b[1;33m\u001b[0m\u001b[0m\n\u001b[0;32m      4\u001b[0m \u001b[1;33m\u001b[0m\u001b[0m\n\u001b[0;32m      5\u001b[0m \u001b[1;33m\u001b[0m\u001b[0m\n",
      "\u001b[1;32m~\\anaconda3\\lib\\site-packages\\pandas\\core\\frame.py\u001b[0m in \u001b[0;36m__getitem__\u001b[1;34m(self, key)\u001b[0m\n\u001b[0;32m   2798\u001b[0m             \u001b[1;32mif\u001b[0m \u001b[0mself\u001b[0m\u001b[1;33m.\u001b[0m\u001b[0mcolumns\u001b[0m\u001b[1;33m.\u001b[0m\u001b[0mnlevels\u001b[0m \u001b[1;33m>\u001b[0m \u001b[1;36m1\u001b[0m\u001b[1;33m:\u001b[0m\u001b[1;33m\u001b[0m\u001b[1;33m\u001b[0m\u001b[0m\n\u001b[0;32m   2799\u001b[0m                 \u001b[1;32mreturn\u001b[0m \u001b[0mself\u001b[0m\u001b[1;33m.\u001b[0m\u001b[0m_getitem_multilevel\u001b[0m\u001b[1;33m(\u001b[0m\u001b[0mkey\u001b[0m\u001b[1;33m)\u001b[0m\u001b[1;33m\u001b[0m\u001b[1;33m\u001b[0m\u001b[0m\n\u001b[1;32m-> 2800\u001b[1;33m             \u001b[0mindexer\u001b[0m \u001b[1;33m=\u001b[0m \u001b[0mself\u001b[0m\u001b[1;33m.\u001b[0m\u001b[0mcolumns\u001b[0m\u001b[1;33m.\u001b[0m\u001b[0mget_loc\u001b[0m\u001b[1;33m(\u001b[0m\u001b[0mkey\u001b[0m\u001b[1;33m)\u001b[0m\u001b[1;33m\u001b[0m\u001b[1;33m\u001b[0m\u001b[0m\n\u001b[0m\u001b[0;32m   2801\u001b[0m             \u001b[1;32mif\u001b[0m \u001b[0mis_integer\u001b[0m\u001b[1;33m(\u001b[0m\u001b[0mindexer\u001b[0m\u001b[1;33m)\u001b[0m\u001b[1;33m:\u001b[0m\u001b[1;33m\u001b[0m\u001b[1;33m\u001b[0m\u001b[0m\n\u001b[0;32m   2802\u001b[0m                 \u001b[0mindexer\u001b[0m \u001b[1;33m=\u001b[0m \u001b[1;33m[\u001b[0m\u001b[0mindexer\u001b[0m\u001b[1;33m]\u001b[0m\u001b[1;33m\u001b[0m\u001b[1;33m\u001b[0m\u001b[0m\n",
      "\u001b[1;32m~\\anaconda3\\lib\\site-packages\\pandas\\core\\indexes\\base.py\u001b[0m in \u001b[0;36mget_loc\u001b[1;34m(self, key, method, tolerance)\u001b[0m\n\u001b[0;32m   2646\u001b[0m                 \u001b[1;32mreturn\u001b[0m \u001b[0mself\u001b[0m\u001b[1;33m.\u001b[0m\u001b[0m_engine\u001b[0m\u001b[1;33m.\u001b[0m\u001b[0mget_loc\u001b[0m\u001b[1;33m(\u001b[0m\u001b[0mkey\u001b[0m\u001b[1;33m)\u001b[0m\u001b[1;33m\u001b[0m\u001b[1;33m\u001b[0m\u001b[0m\n\u001b[0;32m   2647\u001b[0m             \u001b[1;32mexcept\u001b[0m \u001b[0mKeyError\u001b[0m\u001b[1;33m:\u001b[0m\u001b[1;33m\u001b[0m\u001b[1;33m\u001b[0m\u001b[0m\n\u001b[1;32m-> 2648\u001b[1;33m                 \u001b[1;32mreturn\u001b[0m \u001b[0mself\u001b[0m\u001b[1;33m.\u001b[0m\u001b[0m_engine\u001b[0m\u001b[1;33m.\u001b[0m\u001b[0mget_loc\u001b[0m\u001b[1;33m(\u001b[0m\u001b[0mself\u001b[0m\u001b[1;33m.\u001b[0m\u001b[0m_maybe_cast_indexer\u001b[0m\u001b[1;33m(\u001b[0m\u001b[0mkey\u001b[0m\u001b[1;33m)\u001b[0m\u001b[1;33m)\u001b[0m\u001b[1;33m\u001b[0m\u001b[1;33m\u001b[0m\u001b[0m\n\u001b[0m\u001b[0;32m   2649\u001b[0m         \u001b[0mindexer\u001b[0m \u001b[1;33m=\u001b[0m \u001b[0mself\u001b[0m\u001b[1;33m.\u001b[0m\u001b[0mget_indexer\u001b[0m\u001b[1;33m(\u001b[0m\u001b[1;33m[\u001b[0m\u001b[0mkey\u001b[0m\u001b[1;33m]\u001b[0m\u001b[1;33m,\u001b[0m \u001b[0mmethod\u001b[0m\u001b[1;33m=\u001b[0m\u001b[0mmethod\u001b[0m\u001b[1;33m,\u001b[0m \u001b[0mtolerance\u001b[0m\u001b[1;33m=\u001b[0m\u001b[0mtolerance\u001b[0m\u001b[1;33m)\u001b[0m\u001b[1;33m\u001b[0m\u001b[1;33m\u001b[0m\u001b[0m\n\u001b[0;32m   2650\u001b[0m         \u001b[1;32mif\u001b[0m \u001b[0mindexer\u001b[0m\u001b[1;33m.\u001b[0m\u001b[0mndim\u001b[0m \u001b[1;33m>\u001b[0m \u001b[1;36m1\u001b[0m \u001b[1;32mor\u001b[0m \u001b[0mindexer\u001b[0m\u001b[1;33m.\u001b[0m\u001b[0msize\u001b[0m \u001b[1;33m>\u001b[0m \u001b[1;36m1\u001b[0m\u001b[1;33m:\u001b[0m\u001b[1;33m\u001b[0m\u001b[1;33m\u001b[0m\u001b[0m\n",
      "\u001b[1;32mpandas\\_libs\\index.pyx\u001b[0m in \u001b[0;36mpandas._libs.index.IndexEngine.get_loc\u001b[1;34m()\u001b[0m\n",
      "\u001b[1;32mpandas\\_libs\\index.pyx\u001b[0m in \u001b[0;36mpandas._libs.index.IndexEngine.get_loc\u001b[1;34m()\u001b[0m\n",
      "\u001b[1;32mpandas\\_libs\\hashtable_class_helper.pxi\u001b[0m in \u001b[0;36mpandas._libs.hashtable.PyObjectHashTable.get_item\u001b[1;34m()\u001b[0m\n",
      "\u001b[1;32mpandas\\_libs\\hashtable_class_helper.pxi\u001b[0m in \u001b[0;36mpandas._libs.hashtable.PyObjectHashTable.get_item\u001b[1;34m()\u001b[0m\n",
      "\u001b[1;31mKeyError\u001b[0m: 'Others'"
     ]
    }
   ],
   "source": [
    "data1= data[['Discipline/Subject','Country','Continent']]\n",
    "data1 = data1.drop(data1['Others'].indeks)\n",
    "data_index=data1.set_index(['Discipline/Subject','Country'])\n",
    "\n",
    "\n",
    "\n",
    "\n",
    "print(data_index.head())\n",
    "print(data1.info())\n",
    "print(data1.count())"
   ]
  },
  {
   "cell_type": "code",
   "execution_count": 33,
   "metadata": {},
   "outputs": [
    {
     "name": "stdout",
     "output_type": "stream",
     "text": [
      "                                   Discipline/Subject\n",
      "Discipline/Subject                                   \n",
      "Agriculture and Forestry                          671\n",
      "Company                                           175\n",
      "Economic/Econometric                              221\n",
      "Environmental/Engineering Science                 434\n",
      "Fisheries/Marine                                  187\n",
      "Natural / Medical Science                         344\n",
      "Non-Academic                                      138\n",
      "Others                                            744\n"
     ]
    }
   ],
   "source": [
    "dataset1= data1.groupby(['Discipline/Subject'])[['Discipline/Subject']].count()\n",
    "print(dataset1)"
   ]
  },
  {
   "cell_type": "code",
   "execution_count": 85,
   "metadata": {
    "scrolled": true
   },
   "outputs": [
    {
     "data": {
      "image/png": "[encoded data removed]",
      "text/plain": [
       "<Figure size 432x288 with 1 Axes>"
      ]
     },
     "metadata": {
      "needs_background": "light"
     },
     "output_type": "display_data"
    }
   ],
   "source": [
    "plt.clf()\n",
    "data1.groupby('Discipline/Subject')['Discipline/Subject'].count().sort_values(ascending=True).plot(kind='barh',color='green')\n",
    "plt.title('IPB Partners by Subject 2021',loc='center',pad=30, fontsize=15, color='blue')\n",
    "plt.ylabel('Subject', fontsize = 15)\n",
    "plt.xlabel('Total', fontsize = 15)\n",
    "plt.ylim(ymin=0)\n",
    "plt.grid(color='black', linestyle='-',linewidth=0.3)\n",
    "labels, locations = plt.yticks()\n",
    "plt.legend(loc='right', bbox_to_anchor=(1, 0.5), shadow=True, ncol=2)\n",
    "plt.yticks(rotation=0)\n",
    "plt.xticks\n",
    "plt.show()"
   ]
  },
  {
   "cell_type": "code",
   "execution_count": null,
   "metadata": {},
   "outputs": [],
   "source": []
  },
  {
   "cell_type": "code",
   "execution_count": null,
   "metadata": {},
   "outputs": [],
   "source": []
  }
 ],
 "metadata": {
  "kernelspec": {
   "display_name": "Python 3",
   "language": "python",
   "name": "python3"
  },
  "language_info": {
   "codemirror_mode": {
    "name": "ipython",
    "version": 3
   },
   "file_extension": ".py",
   "mimetype": "text/x-python",
   "name": "python",
   "nbconvert_exporter": "python",
   "pygments_lexer": "ipython3",
   "version": "3.8.3"
  }
 },
 "nbformat": 4,
 "nbformat_minor": 4
}
